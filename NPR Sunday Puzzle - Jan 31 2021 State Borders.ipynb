{
 "cells": [
  {
   "cell_type": "markdown",
   "metadata": {},
   "source": [
    "## NPR SUNDAY PUZZLE January 31, 2021\n",
    "https://www.npr.org/2021/01/31/962412357/sunday-puzzle-game-of-words\n",
    "\n",
    "> This week's challenge: This week's challenge comes from listener Derrick Niederman, of Charleston, S.C. Starting in Montana, you can drive into South Dakota and then into Iowa. Those three states have the postal abbreviations MT, SD, and IA — whose letters can be rearranged to spell AMIDST. The challenge is to do this with four connected states to make an eight-letter word. That is, start in a certain state, drive to another, then another, and then another. Take the postal abbreviations of the four states you visit, mix the letters up, and use them to spell a common eight-letter word. Derrick and I know of only one answer. Can you do this?\n",
    "\n",
    "Sources:\n",
    "* List of common 8 letter words: http://www.poslarchive.com/math/scrabble/lists/common-8.html\n",
    "* Table of state borders: Thomas J. Holmes (April 30, 1998) http://users.econ.umn.edu/~holmes/data/BorderData.html\n",
    "\n",
    "Author: William Seifstad\n",
    "\n"
   ]
  },
  {
   "cell_type": "code",
   "execution_count": 1,
   "metadata": {},
   "outputs": [],
   "source": [
    "import pandas as pd\n",
    "import matplotlib.pyplot as plt\n",
    "import re\n",
    "import networkx as nx"
   ]
  },
  {
   "cell_type": "code",
   "execution_count": 2,
   "metadata": {},
   "outputs": [],
   "source": [
    "# import data from csv to a pandas table\n",
    "df = pd.read_csv('state_borders.csv')\n",
    "\n",
    "# import 8 letter words\n",
    "with open(\"eight_letter_words.txt\", \"r\") as f:\n",
    "    words = f.read().split(\" \")\n",
    "    words = [re.split(r'[\\n\\t]', i) for i in words]\n",
    "    words = [item for sublist in words for item in sublist]"
   ]
  },
  {
   "cell_type": "code",
   "execution_count": 3,
   "metadata": {},
   "outputs": [],
   "source": [
    "# cleaning the state borders table data\n",
    "df['state1'] = df['ST1ST2'].apply(lambda x: x.split('-')[0])\n",
    "df['state2'] = df['ST1ST2'].apply(lambda x: x.split('-')[1])\n",
    "df = df[['state1','state2']]\n",
    "\n",
    "# reversing and concatenating the columsn, since the original table only contains unique border pairs\n",
    "# (I need a table of all borders, not just unique borders) \n",
    "df2 = df.copy()\n",
    "df2['state1'] = df['state2'].copy()\n",
    "df2['state2'] = df['state1'].copy()\n",
    "df = pd.concat([df,df2],axis=0)"
   ]
  },
  {
   "cell_type": "code",
   "execution_count": 4,
   "metadata": {},
   "outputs": [],
   "source": [
    "# make border pairs into dictionary to work nicely with networkx graph\n",
    "borders = pd.Series.to_dict(df.groupby('state1')['state2'].apply(list))\n",
    "\n",
    "# generate network x graph, using the state border pairs as edges and the states as nodes\n",
    "g = nx.Graph(borders)\n",
    "\n",
    "# iterate through all key - key pairs and get all possible paths of length 4\n",
    "possible_paths = []\n",
    "for j in borders.keys():\n",
    "    for k in borders.keys():\n",
    "        if j != k:\n",
    "            possible_paths.extend([list(i) for i in list(nx.all_simple_paths(g,source=j,target=k,cutoff=3)) if len(i) == 4])            \n",
    "\n",
    "# print(len(possible_paths)) ## contains duplicates\n",
    "# 3310"
   ]
  },
  {
   "cell_type": "code",
   "execution_count": 5,
   "metadata": {},
   "outputs": [],
   "source": [
    "# organizing paths as dataframe for deduplication across paths and pretty output\n",
    "p = pd.DataFrame(possible_paths,columns = [1,2,3,4])\n",
    "p['path_string'] = p[1] + '-' + p[2] + '-' + p[3] + '-' + p[4]\n",
    "p['unique_path'] = (p[1] + p[2] + p[3] + p[4]).apply(lambda x: ''.join(sorted(x)))\n",
    "p.drop_duplicates('unique_path',inplace=True)"
   ]
  },
  {
   "cell_type": "code",
   "execution_count": 6,
   "metadata": {},
   "outputs": [],
   "source": [
    "solutions = []\n",
    "for i in p.unique_path:\n",
    "    for j in words:\n",
    "        if i.lower() == ''.join(sorted(j)):\n",
    "            path = p[p['unique_path'] == i]['path_string'].values[0]\n",
    "            word = j\n",
    "            solutions.append([path,word])"
   ]
  },
  {
   "cell_type": "code",
   "execution_count": 7,
   "metadata": {},
   "outputs": [
    {
     "name": "stdout",
     "output_type": "stream",
     "text": [
      "36 solutions:\n",
      "AL-TN-MO-AR --> matronal\n",
      "AL-TN-MO-NE --> nonmetal\n",
      "AL-GA-TN-VA --> galavant\n",
      "AR-MO-NE-CO --> coenamor\n",
      "AR-TN-GA-FL --> flagrant\n",
      "AR-MO-TN-GA --> martagon\n",
      "AR-MS-TN-GA --> tangrams\n",
      "AR-MS-TN-GA --> trangams\n",
      "AR-TN-MO-IA --> animator\n",
      "AR-TN-MO-NE --> ornament\n",
      "AR-MO-IA-SD --> dioramas\n",
      "AR-MO-NE-SD --> madrones\n",
      "AR-MO-NE-SD --> ransomed\n",
      "CO-KS-MO-IA --> oomiacks\n",
      "CO-NE-SD-IA --> codeinas\n",
      "CO-NE-SD-IA --> diocesan\n",
      "CO-NE-IA-MN --> monecian\n",
      "CO-NE-SD-MN --> condemns\n",
      "DE-PA-OH-IN --> diaphone\n",
      "GA-TN-KY-IL --> takingly\n",
      "GA-TN-MO-NE --> magneton\n",
      "IA-SD-NE-MO --> amidones\n",
      "IA-SD-NE-MO --> daimones\n",
      "IA-SD-NE-MO --> domaines\n",
      "IA-NE-SD-MT --> mediants\n",
      "IA-MO-OK-NM --> makimono\n",
      "IA-NE-MO-TN --> antinome\n",
      "IA-NE-MO-TN --> nominate\n",
      "ID-UT-CO-NE --> eduction\n",
      "IL-MO-NE-KS --> moleskin\n",
      "IL-MO-AR-MS --> moralism\n",
      "MN-SD-IA-MO --> monadism\n",
      "MN-SD-IA-MO --> nomadism\n",
      "MO-IA-SD-ND --> diamonds\n",
      "SD-IA-MO-TN --> saintdom\n",
      "SD-NE-CO-UT --> contused\n"
     ]
    }
   ],
   "source": [
    "print(len(solutions),'solutions:')\n",
    "for i in solutions:\n",
    "    print(i[0],'-->',i[1])"
   ]
  }
 ],
 "metadata": {
  "kernelspec": {
   "display_name": "Python 3",
   "language": "python",
   "name": "python3"
  },
  "language_info": {
   "codemirror_mode": {
    "name": "ipython",
    "version": 3
   },
   "file_extension": ".py",
   "mimetype": "text/x-python",
   "name": "python",
   "nbconvert_exporter": "python",
   "pygments_lexer": "ipython3",
   "version": "3.6.9"
  }
 },
 "nbformat": 4,
 "nbformat_minor": 2
}
