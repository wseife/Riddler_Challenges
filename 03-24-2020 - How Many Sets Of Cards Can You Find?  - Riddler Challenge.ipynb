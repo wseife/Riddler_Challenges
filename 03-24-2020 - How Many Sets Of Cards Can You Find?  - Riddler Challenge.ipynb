{
 "cells": [
  {
   "cell_type": "code",
   "execution_count": 54,
   "metadata": {},
   "outputs": [],
   "source": [
    "import random\n",
    "import itertools"
   ]
  },
  {
   "cell_type": "markdown",
   "metadata": {},
   "source": [
    "Riddler Classic\n",
    "\n",
    "Question 1: What is the maximum number of cards you could have (from a single deck of 81 cards) such that there are no sets among them?\n",
    "\n",
    "Question 2: What is the largest number of sets one can possibly find among 12 cards? You are free to pick any board of 12 cards you like — your goal is to maximize the number of sets the board contains.\n",
    "\n",
    "Question 3: If you pick 12 cards at random (again, from a single deck of 81 cards), what’s the probability that they contain at least one set?\n"
   ]
  },
  {
   "cell_type": "markdown",
   "metadata": {},
   "source": [
    "each card can be represented as an array of the different properties ex: [-1,0,1,1]\n",
    "where each position is a different attribute and the value (-1,0,1) represents the value of the attribute"
   ]
  },
  {
   "cell_type": "markdown",
   "metadata": {},
   "source": [
    "first step is to generate the deck of cards - find all permutations of [[-1,0,1],[-1,0,1],[-1,0,1],[-1,0,1]]"
   ]
  },
  {
   "cell_type": "code",
   "execution_count": 337,
   "metadata": {},
   "outputs": [],
   "source": [
    "def make_deck():\n",
    "    deck = []\n",
    "    for i in range(-1,2):\n",
    "        for j in range(-1,2):\n",
    "            for k in range(-1,2):\n",
    "                for l in range(-1,2):\n",
    "                    deck.append([i,j,k,l])\n",
    "    return deck\n",
    "make_deck();"
   ]
  },
  {
   "cell_type": "markdown",
   "metadata": {},
   "source": [
    "#### Question 1: What is the maximum number of cards you could have (from a single deck of 81 cards) such that there are no sets among them?"
   ]
  },
  {
   "cell_type": "code",
   "execution_count": 86,
   "metadata": {},
   "outputs": [],
   "source": [
    "cards_dealt = random.choices(deck,k=12);"
   ]
  },
  {
   "cell_type": "code",
   "execution_count": 129,
   "metadata": {},
   "outputs": [],
   "source": [
    "def find_sets(cards_dealt):\n",
    "    col_0 = [x[0] for x in cards_dealt]\n",
    "    col_1 = [x[1] for x in cards_dealt]\n",
    "    col_2 = [x[2] for x in cards_dealt]\n",
    "    col_3 = [x[3] for x in cards_dealt]\n",
    "    \n",
    "    col_0_sums = []\n",
    "    col_1_sums = []\n",
    "    col_2_sums = []\n",
    "    col_3_sums = []\n",
    "\n",
    "    for i in list(itertools.combinations(col_0,3)):\n",
    "        col_0_sums.append(sum(i))\n",
    "    for i in list(itertools.combinations(col_1,3)):\n",
    "        col_1_sums.append(sum(i))\n",
    "    for i in list(itertools.combinations(col_2,3)):\n",
    "        col_2_sums.append(sum(i))\n",
    "    for i in list(itertools.combinations(col_3,3)):\n",
    "        col_3_sums.append(sum(i))\n",
    "    \n",
    "    num_matches = 0\n",
    "    for i in range(len(col_0_sums)):\n",
    "        if (col_0_sums[i] in [-3,0,3]) & (col_1_sums[i] in [-3,0,3]) & (col_2_sums[i] in [-3,0,3]) & (col_3_sums[i] in [-3,0,3]):\n",
    "            num_matches +=1\n",
    "    return num_matches"
   ]
  },
  {
   "cell_type": "code",
   "execution_count": 225,
   "metadata": {},
   "outputs": [],
   "source": [
    "def find_max_cards_without_set(attempts=100000):\n",
    "    num_cards = 15\n",
    "    while num_cards <= 81:\n",
    "        i = 0\n",
    "        sets = 0\n",
    "        zero_found = False\n",
    "        while (i < attempts) & (zero_found == False):\n",
    "            cards_dealt = random.choices(deck,k=num_cards)\n",
    "            if find_sets(cards_dealt) == 0:\n",
    "                zero_found = True\n",
    "            else:\n",
    "                sets += 1\n",
    "            i += 1\n",
    "        print('cards:', num_cards, ' | sets: ', sets, ' | attempts: ', i)\n",
    "        if sets == attempts:\n",
    "            return num_cards\n",
    "        num_cards += 1"
   ]
  },
  {
   "cell_type": "code",
   "execution_count": 226,
   "metadata": {},
   "outputs": [
    {
     "name": "stdout",
     "output_type": "stream",
     "text": [
      "cards: 15  | sets:  161  | attempts:  162\n",
      "cards: 16  | sets:  1394  | attempts:  1395\n",
      "cards: 17  | sets:  1041  | attempts:  1042\n",
      "cards: 18  | sets:  7899  | attempts:  7900\n",
      "cards: 19  | sets:  1686  | attempts:  1687\n",
      "cards: 20  | sets:  52509  | attempts:  52510\n",
      "cards: 21  | sets:  100000  | attempts:  100000\n"
     ]
    },
    {
     "data": {
      "text/plain": [
       "21"
      ]
     },
     "execution_count": 226,
     "metadata": {},
     "output_type": "execute_result"
    }
   ],
   "source": [
    "find_max_cards_without_set()"
   ]
  },
  {
   "cell_type": "markdown",
   "metadata": {},
   "source": [
    "(which would mean that 20 is the max number that would be able to produce a combination without 0 sets) Realizing now that brute forcing this is not going to work since there are 81C20 is something like 10^18, which would take far too long to compute every variation\n",
    "\n",
    "instead, let's try continuously adding cards that do not make a set, and see how many cards we can add."
   ]
  },
  {
   "cell_type": "code",
   "execution_count": 465,
   "metadata": {},
   "outputs": [],
   "source": [
    "def find_max_cards_without_set_2():\n",
    "    deck = make_deck()\n",
    "    random.shuffle(deck)\n",
    "    cards_dealt = []\n",
    "    cards_dealt.append(deck.pop(0))\n",
    "    cards_dealt.append(deck.pop(0))\n",
    "    while len(deck) > 0:\n",
    "#         print('deck size: ', len(deck))\n",
    "        attempted_card = deck.pop(0)\n",
    "        attempt = cards_dealt[:]\n",
    "        attempt.append(attempted_card)\n",
    "        if find_sets(attempt) == 0:\n",
    "            cards_dealt.append(attempted_card)\n",
    "#             print('card added')\n",
    "    return len(cards_dealt)"
   ]
  },
  {
   "cell_type": "code",
   "execution_count": 472,
   "metadata": {},
   "outputs": [
    {
     "name": "stdout",
     "output_type": "stream",
     "text": [
      "16\n",
      "18\n",
      "20\n"
     ]
    }
   ],
   "source": [
    "max_cards = 0\n",
    "for i in range(1000):\n",
    "    attempt = find_max_cards_without_set_2()\n",
    "    if attempt > max_cards:\n",
    "        max_cards = attempt\n",
    "        print(max_cards)"
   ]
  },
  {
   "cell_type": "markdown",
   "metadata": {},
   "source": [
    "This is the same result as before. In our simulation above, all of the combinations from 21 cards dealt that we attempted ended up producing at least 1 set, therefore it looks like 20 is the correct answer. This is not a proof, however."
   ]
  },
  {
   "cell_type": "markdown",
   "metadata": {},
   "source": [
    "#### Question 2: What is the largest number of sets one can possibly find among 12 cards? You are free to pick any board of 12 cards you like — your goal is to maximize the number of sets the board contains."
   ]
  },
  {
   "cell_type": "code",
   "execution_count": 481,
   "metadata": {},
   "outputs": [],
   "source": [
    "def max_sets_from_12():\n",
    "    max_sets = 0\n",
    "    for i in range(1000000):\n",
    "        deck = make_deck()\n",
    "        cards_dealt = random.choices(deck,k=12);\n",
    "        sets = find_sets(cards_dealt)\n",
    "        if sets > max_sets:\n",
    "            max_sets = sets\n",
    "            print(max_sets)"
   ]
  },
  {
   "cell_type": "code",
   "execution_count": 482,
   "metadata": {},
   "outputs": [
    {
     "name": "stdout",
     "output_type": "stream",
     "text": [
      "2\n",
      "4\n",
      "6\n",
      "7\n",
      "8\n",
      "9\n",
      "10\n",
      "12\n",
      "13\n",
      "15\n",
      "17\n",
      "25\n"
     ]
    }
   ],
   "source": [
    "max_sets_from_12()"
   ]
  },
  {
   "cell_type": "markdown",
   "metadata": {},
   "source": [
    "25 is the best that this found, after running it a couple of times"
   ]
  },
  {
   "cell_type": "markdown",
   "metadata": {},
   "source": [
    "#### Question 3: If you pick 12 cards at random (again, from a single deck of 81 cards), what’s the probability that they contain at least one set?"
   ]
  },
  {
   "cell_type": "code",
   "execution_count": 494,
   "metadata": {},
   "outputs": [],
   "source": [
    "def probability_of_set_from_12():\n",
    "    deck = make_deck()\n",
    "    n=1000000\n",
    "    successes = 0\n",
    "    for i in range(n):\n",
    "        cards_dealt = random.choices(deck,k=12);\n",
    "        if find_sets(cards_dealt) > 0:\n",
    "            successes += 1\n",
    "    print('successes: ', successes)\n",
    "    print('attempts: ', n)\n",
    "    print('prob: ', float(successes) / n)"
   ]
  },
  {
   "cell_type": "code",
   "execution_count": 495,
   "metadata": {},
   "outputs": [
    {
     "name": "stdout",
     "output_type": "stream",
     "text": [
      "successes:  926674\n",
      "attempts:  1000000\n",
      "prob:  0.926674\n"
     ]
    }
   ],
   "source": [
    "probability_of_set_from_12()"
   ]
  }
 ],
 "metadata": {
  "kernelspec": {
   "display_name": "Python 3",
   "language": "python",
   "name": "python3"
  },
  "language_info": {
   "codemirror_mode": {
    "name": "ipython",
    "version": 3
   },
   "file_extension": ".py",
   "mimetype": "text/x-python",
   "name": "python",
   "nbconvert_exporter": "python",
   "pygments_lexer": "ipython3",
   "version": "3.6.9"
  }
 },
 "nbformat": 4,
 "nbformat_minor": 2
}
