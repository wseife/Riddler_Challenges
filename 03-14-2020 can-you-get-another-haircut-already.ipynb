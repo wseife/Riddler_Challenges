{
 "cells": [
  {
   "cell_type": "markdown",
   "metadata": {},
   "source": [
    "## Riddler Express"
   ]
  },
  {
   "cell_type": "markdown",
   "metadata": {},
   "source": [
    "After 2^10, what’s the next (whole number) power of 2 that comes closer to a power of 10? (To be clear, “closer” doesn’t refer to the absolute difference — it means your power of 2 should differ from a power of 10 by less than 2.4 percent.)"
   ]
  },
  {
   "cell_type": "code",
   "execution_count": 7,
   "metadata": {},
   "outputs": [
    {
     "name": "stdout",
     "output_type": "stream",
     "text": [
      "power of ten:  29\n",
      "power of two:  93.0\n",
      "pct_diff:  0.01\n"
     ]
    }
   ],
   "source": [
    "    \"\"\"\n",
    "    After 2^10, what’s the next (whole number) power of 2 that comes closer to a power of 10? \n",
    "    \"\"\"\n",
    "    import numpy as np\n",
    "\n",
    "    n = 4\n",
    "    pct_diff = 1000\n",
    "    while pct_diff >= .024:\n",
    "        x = 10.**n\n",
    "        y = round(np.log2(x),0)\n",
    "        pct_diff = abs((2**y-x)/x)\n",
    "        n+=1\n",
    "    print(\"power of ten: \", n)\n",
    "    print(\"power of two: \", y)\n",
    "    print(\"pct_diff: \", round(pct_diff,3))    "
   ]
  },
  {
   "cell_type": "code",
   "execution_count": 11,
   "metadata": {},
   "outputs": [
    {
     "name": "stdout",
     "output_type": "stream",
     "text": [
      "93\n"
     ]
    }
   ],
   "source": [
    "from math import log\n",
    "\n",
    "p = 10000\n",
    "while abs(2 ** round(log(p, 2)) - p) / p > 0.024:\n",
    "    p *= 10\n",
    "print(round(log(p, 2)))"
   ]
  },
  {
   "cell_type": "code",
   "execution_count": 12,
   "metadata": {},
   "outputs": [
    {
     "name": "stdout",
     "output_type": "stream",
     "text": [
      "power:  104\n",
      "pct_diff:  0.014\n"
     ]
    }
   ],
   "source": [
    "# first attempt - incorrect\n",
    "\"\"\"\n",
    "After 2^10, what's the next (whole number) power of 2 that comes closer to a power of 10? \n",
    "\"\"\"\n",
    "n = 11\n",
    "pct_diff = 2.5\n",
    "while pct_diff > .024:\n",
    "    x = 2**n\n",
    "    y = 10**(len(str(x))-1)\n",
    "    pct_diff = (x-y)/y\n",
    "    n+=1\n",
    "print(\"power: \", n)\n",
    "print(\"pct_diff: \", round(pct_diff,3)) "
   ]
  },
  {
   "cell_type": "markdown",
   "metadata": {},
   "source": [
    "## Riddler Classic"
   ]
  },
  {
   "cell_type": "markdown",
   "metadata": {},
   "source": [
    "Suppose all of Riddler City, with its incredibly vast population (25 percent of whom will wait for Tiffany), decides to get a haircut at this barbershop one fine morning, and everyone lines up at its entrance in a random order a few minutes before the shop opens at 8 a.m. After opening, the four barbers will start cutting hair for their first customers at random times between 8 a.m. and 8:15 a.m. Each haircut then lasts exactly 15 minutes.\n",
    "\n",
    "Sadly, you find yourself toward the back of this very, very long line. To pass the time while you wait, you spend a long time thinking about this week’s Riddler column, completely unaware of the passage of time. The next thing you know, you’re second in line, with one person waiting in front of you — the exact conditions from the original puzzle. At this point, how long should you expect to wait for your haircut from Tiffany?\n",
    "\n",
    "(Hint: Think about the probability that the person in front of you will request Tiffany. Is it still 25 percent? Also, keep in mind that if there are multiple Tiffany requesters at the front of the line, and a barber other than Tiffany becomes available, the next non-Tiffany requester will effectively jump the line.)\n",
    "\n"
   ]
  },
  {
   "cell_type": "code",
   "execution_count": 1,
   "metadata": {},
   "outputs": [],
   "source": [
    "import datetime as dt\n",
    "import random\n",
    "import numpy as np\n",
    "import matplotlib.pyplot as plt"
   ]
  },
  {
   "cell_type": "code",
   "execution_count": 8,
   "metadata": {},
   "outputs": [],
   "source": [
    "class Barber:\n",
    "    def __init__(self, haircut_start_time,name):\n",
    "        self.haircut_start_time = haircut_start_time\n",
    "        self.haircut_finish_time = haircut_start_time + dt.timedelta(minutes=15)\n",
    "        self.name = name\n",
    "\n",
    "class Customer: \n",
    "    def __init__(self,tiffany_pref,name):\n",
    "        self.tiffany_pref = tiffany_pref\n",
    "        self.name = name\n",
    "        \n",
    "def getStartTime(barber):\n",
    "    return barber.haircut_start_time"
   ]
  },
  {
   "cell_type": "code",
   "execution_count": 3,
   "metadata": {},
   "outputs": [],
   "source": [
    "def createCustomerList(n=1000):\n",
    "    customer_list = np.ones(n).tolist()\n",
    "    for i in range(0,len(customer_list)):\n",
    "        customer_list[i] = Customer(tiffany_pref = random.choice([False,False,False,True]),name = None)\n",
    "    return customer_list\n",
    "    # customer_list.append(Customer(tiffany_pref = True,name = 'You'))\n",
    "\n",
    "def createBarberList():\n",
    "    barber_list = [\n",
    "        Barber(haircut_start_time = dt.datetime(2000,1,1,8,random.randrange(0,15,1),random.randrange(0,60,1)), name = None)\n",
    "        , Barber(haircut_start_time = dt.datetime(2000,1,1,8,random.randrange(0,15,1),random.randrange(0,60,1)), name = None)\n",
    "        , Barber(haircut_start_time = dt.datetime(2000,1,1,8,random.randrange(0,15,1),random.randrange(0,60,1)), name = None)\n",
    "        , Barber(haircut_start_time = dt.datetime(2000,1,1,8,random.randrange(0,15,1),random.randrange(0,60,1)), name = 'Tiffany')\n",
    "    ]\n",
    "\n",
    "    barber_list.sort(key=getStartTime)\n",
    "    return barber_list"
   ]
  },
  {
   "cell_type": "code",
   "execution_count": 23,
   "metadata": {},
   "outputs": [],
   "source": [
    "def run(barber_list,customer_list):    \n",
    "    waiting_for_tiffany_list = []\n",
    "    while (len(customer_list) + len(waiting_for_tiffany_list)) > 1:\n",
    "        if barber_list[0].name == 'Tiffany':\n",
    "            if len(waiting_for_tiffany_list) > 0:\n",
    "                waiting_for_tiffany_list.pop(0)\n",
    "            else:\n",
    "                customer_list.pop(0)\n",
    "        else:\n",
    "            if len(customer_list) > 0:\n",
    "                for i in range(0,len(customer_list)):\n",
    "                    if customer_list[0].tiffany_pref == True:\n",
    "                        waiting_for_tiffany_list.append(customer_list.pop(0))\n",
    "                    else:\n",
    "                        customer_list.pop(0)\n",
    "                        break\n",
    "            else: \n",
    "                pass\n",
    "        barber_list[0].haircut_start_time + dt.timedelta(minutes=15)\n",
    "        barber_list.append(barber_list.pop(0))\n",
    "    if len(customer_list) > 0:\n",
    "        return customer_list[0].tiffany_pref\n",
    "    else:\n",
    "        return True"
   ]
  },
  {
   "cell_type": "code",
   "execution_count": 21,
   "metadata": {},
   "outputs": [],
   "source": [
    "def runSimulation(sims=100,customers = 10000):\n",
    "    sims = sims\n",
    "    trues = 0 \n",
    "    falses = 0 \n",
    "    for n in range(sims):\n",
    "        if run(createBarberList(),createCustomerList(n=customers)):\n",
    "            trues += 1\n",
    "        else: \n",
    "            falses +=1\n",
    "#     print('trues: ', trues)\n",
    "#     print('falses: ', falses)\n",
    "#     print('probability that customer ahead of you is waiting for tiffany: ', round(float(trues)/sims,2))\n",
    "    return round(float(trues)/sims,2)"
   ]
  },
  {
   "cell_type": "code",
   "execution_count": 33,
   "metadata": {},
   "outputs": [
    {
     "data": {
      "text/plain": [
       "0.99"
      ]
     },
     "execution_count": 33,
     "metadata": {},
     "output_type": "execute_result"
    }
   ],
   "source": [
    "runSimulation(sims = 100, customers = 10000) #limiting to 100 iterations for speed"
   ]
  },
  {
   "cell_type": "markdown",
   "metadata": {},
   "source": [
    "~100% of the time, the person in front of you will be waiting for Tiffany, as well, if there were infinite people in front of you.\n",
    "\n",
    "So, what is the expected wait time?\n",
    "\n",
    "Assuming no knowledge of where Tiffany is in her haircut, on average, she is halfway done (7.5 minutes to go), then we'll add on the 100% * 15 minutes for the estimated additional time you will need to wait --> ***22.5 minutes***\n"
   ]
  },
  {
   "cell_type": "code",
   "execution_count": null,
   "metadata": {},
   "outputs": [],
   "source": [
    "# How does this look for various numbers of customers:\n",
    "customer_range = range(100,10100,100)\n",
    "prob_list = []\n",
    "for i in customer_range:\n",
    "    print(i,)\n",
    "    prob = runSimulation(100,customers = i)\n",
    "    prob_list.append(prob)\n",
    "plt.scatter(customer_range,prob_list);"
   ]
  },
  {
   "cell_type": "code",
   "execution_count": 53,
   "metadata": {},
   "outputs": [
    {
     "data": {
      "image/png": "[encoded data removed]",
      "text/plain": [
       "<Figure size 432x288 with 1 Axes>"
      ]
     },
     "metadata": {
      "needs_background": "light"
     },
     "output_type": "display_data"
    }
   ],
   "source": [
    "plt.scatter(customer_range,prob_list);"
   ]
  }
 ],
 "metadata": {
  "kernelspec": {
   "display_name": "Python 3",
   "language": "python",
   "name": "python3"
  },
  "language_info": {
   "codemirror_mode": {
    "name": "ipython",
    "version": 3
   },
   "file_extension": ".py",
   "mimetype": "text/x-python",
   "name": "python",
   "nbconvert_exporter": "python",
   "pygments_lexer": "ipython3",
   "version": "3.6.9"
  }
 },
 "nbformat": 4,
 "nbformat_minor": 2
}
